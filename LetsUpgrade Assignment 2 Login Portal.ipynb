{
 "cells": [
  {
   "cell_type": "markdown",
   "metadata": {},
   "source": [
    "# User login/password portal\n",
    "\n",
    "The user'll get maximum 5 tries for the password. No second chance for wrong username.\n",
    "\n",
    "Don't forget your username/password!"
   ]
  },
  {
   "cell_type": "code",
   "execution_count": 17,
   "metadata": {},
   "outputs": [],
   "source": [
    "# Define username / password\n",
    "username = \"INDIA\"\n",
    "password = \"IND\""
   ]
  },
  {
   "cell_type": "code",
   "execution_count": 22,
   "metadata": {},
   "outputs": [
    {
     "name": "stdout",
     "output_type": "stream",
     "text": [
      "Please provide your username: 5665\n",
      "Please provide your password: 565\n"
     ]
    }
   ],
   "source": [
    "user1 = input(\"Please provide your username: \")\n",
    "pass1 = input(\"Please provide your password: \")"
   ]
  },
  {
   "cell_type": "code",
   "execution_count": 23,
   "metadata": {},
   "outputs": [
    {
     "name": "stdout",
     "output_type": "stream",
     "text": [
      "Username invalid!\n"
     ]
    }
   ],
   "source": [
    "tries = 0\n",
    "if username == user1 and password == pass1:\n",
    "    print(\"Login Sucessful!\")\n",
    "elif username != user1:\n",
    "    print(\"Username invalid!\")\n",
    "elif password != pass1:\n",
    "    while tries<5:\n",
    "        pass1 = input(\"Incorrect password, please try again: \")\n",
    "        if password == pass1:\n",
    "            print(\"Login sucessful!\")\n",
    "            break\n",
    "        tries += 1\n",
    "        print(\"You have used your \",tries,\" of 5 tries.\")\n",
    "            "
   ]
  },
  {
   "cell_type": "code",
   "execution_count": null,
   "metadata": {},
   "outputs": [],
   "source": []
  }
 ],
 "metadata": {
  "kernelspec": {
   "display_name": "Python 3",
   "language": "python",
   "name": "python3"
  },
  "language_info": {
   "codemirror_mode": {
    "name": "ipython",
    "version": 3
   },
   "file_extension": ".py",
   "mimetype": "text/x-python",
   "name": "python",
   "nbconvert_exporter": "python",
   "pygments_lexer": "ipython3",
   "version": "3.7.6"
  }
 },
 "nbformat": 4,
 "nbformat_minor": 4
}
